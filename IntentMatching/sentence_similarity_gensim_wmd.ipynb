{
 "cells": [
  {
   "cell_type": "markdown",
   "metadata": {},
   "source": [
    "#### Short-Sentence Similarity using Gensim Word Mover Distance"
   ]
  },
  {
   "cell_type": "markdown",
   "metadata": {},
   "source": [
    "#### 1. Gensim Word-Movers model"
   ]
  },
  {
   "cell_type": "markdown",
   "metadata": {},
   "source": [
    "Reference:\n",
    "\n",
    "    Note: Refer to other similarity functions\n",
    "    https://radimrehurek.com/gensim/models/word2vec.html"
   ]
  },
  {
   "cell_type": "code",
   "execution_count": 1,
   "metadata": {},
   "outputs": [
    {
     "name": "stderr",
     "output_type": "stream",
     "text": [
      "c:\\users\\manojkumar_meno\\appdata\\local\\programs\\python\\python35\\lib\\site-packages\\gensim\\utils.py:860: UserWarning: detected Windows; aliasing chunkize to chunkize_serial\n",
      "  warnings.warn(\"detected Windows; aliasing chunkize to chunkize_serial\")\n"
     ]
    }
   ],
   "source": [
    "# Importing the dependecies\n",
    "import gensim"
   ]
  },
  {
   "cell_type": "markdown",
   "metadata": {
    "collapsed": true
   },
   "source": [
    "###### Load the Google's pre-trained model"
   ]
  },
  {
   "cell_type": "code",
   "execution_count": null,
   "metadata": {
    "collapsed": true
   },
   "outputs": [],
   "source": [
    "#load word2vec model, here GoogleNews is used , this should be downloaded and to be loaded from the local path\n",
    "model = gensim.models.KeyedVectors.load_word2vec_format('GoogleNews-vectors-negative300.bin', binary=True)\n"
   ]
  },
  {
   "cell_type": "code",
   "execution_count": 34,
   "metadata": {
    "collapsed": true
   },
   "outputs": [],
   "source": [
    "# intent list for the application\n",
    "intent_list = ['Read the news', 'Hello', 'Get my news', 'Get feed', 'Read my feed']"
   ]
  },
  {
   "cell_type": "markdown",
   "metadata": {},
   "source": [
    "##### Algorithm"
   ]
  },
  {
   "cell_type": "code",
   "execution_count": 35,
   "metadata": {},
   "outputs": [
    {
     "name": "stdout",
     "output_type": "stream",
     "text": [
      "provide your intent\n",
      "What is the today's news?\n",
      "\n",
      "\n",
      "{'Read the news': 1.2377885709077778, 'Get my news': 1.3753294548871398, 'Read my feed': 2.1875672564865503, 'Get feed': 2.0380287568701823, 'Hello': 2.2574398337508508}\n",
      "\n",
      "\n",
      "Selected Intent for the given user input\n",
      "Read the news\n"
     ]
    }
   ],
   "source": [
    "print (\"provide your intent\")\n",
    "input_intent = input()\n",
    "intent_similiarity_map = dict()\n",
    "\n",
    "print (\"\\n\")\n",
    "for each in intent_list:\n",
    "    \n",
    "    #calculate distance between two sentences using WMD algorithm (Word Movers Distance)\n",
    "    distance = model.wmdistance(each, input_intent)\n",
    "    # map the values into a dictionary\n",
    "    intent_similiarity_map[each] = distance\n",
    "    \n",
    "print (intent_similiarity_map)\n",
    "print (\"\\n\")\n",
    "print (\"Selected Intent for the given user input\")\n",
    "# pick the intent with minimum distance\n",
    "print (min(intent_similiarity_map, key = intent_similiarity_map.get))    "
   ]
  }
 ],
 "metadata": {
  "kernelspec": {
   "display_name": "Python 3",
   "language": "python",
   "name": "python3"
  },
  "language_info": {
   "codemirror_mode": {
    "name": "ipython",
    "version": 3
   },
   "file_extension": ".py",
   "mimetype": "text/x-python",
   "name": "python",
   "nbconvert_exporter": "python",
   "pygments_lexer": "ipython3",
   "version": "3.5.3"
  }
 },
 "nbformat": 4,
 "nbformat_minor": 2
}
