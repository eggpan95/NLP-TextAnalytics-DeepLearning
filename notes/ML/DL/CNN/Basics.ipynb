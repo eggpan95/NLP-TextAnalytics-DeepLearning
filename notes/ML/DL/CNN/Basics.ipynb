{
 "cells": [
  {
   "cell_type": "markdown",
   "metadata": {},
   "source": [
    "### Intro"
   ]
  },
  {
   "cell_type": "markdown",
   "metadata": {},
   "source": [
    "1) CNN or ConvNets\n",
    "\n",
    "2) If you feed them faces images they learn edges,dots bright spots, dark spots\n",
    "\n",
    "3) Multi-Layer NN : Second layer eyes, noses and in third layer identify faces\n",
    "    \n",
    "4) CNN can learn video games by learning patterns\n",
    "\n",
    "5) CNN can be used to learn from videos"
   ]
  },
  {
   "cell_type": "markdown",
   "metadata": {},
   "source": [
    "### Toy CNN"
   ]
  },
  {
   "cell_type": "markdown",
   "metadata": {},
   "source": [
    "Lets take a two dimensional array of pixels like checker board where each square is light or dark is it a picture or X or O"
   ]
  },
  {
   "cell_type": "markdown",
   "metadata": {},
   "source": [
    "Tricker cases: translation, scaling, rotation, weight\n",
    "\n",
    "CNN: matches parts of images, rather than the whole thing"
   ]
  },
  {
   "cell_type": "markdown",
   "metadata": {},
   "source": [
    "Example of the features are: 3*3 images ( parts of images) and then matched which is called Filtering"
   ]
  },
  {
   "cell_type": "markdown",
   "metadata": {},
   "source": [
    "#### 1. Filtering"
   ]
  },
  {
   "cell_type": "markdown",
   "metadata": {},
   "source": [
    "The math behind this match is:"
   ]
  },
  {
   "cell_type": "markdown",
   "metadata": {},
   "source": [
    "- Line up the feature and the image patch\n",
    "- Multiply each image pixel by the corresponding feature pixel\n",
    "- add them up\n",
    "- divide by the total number of pixels in the feature\n",
    "- this becomes a map of where the feature occurs"
   ]
  },
  {
   "cell_type": "markdown",
   "metadata": {},
   "source": [
    "#### 2. Convolution"
   ]
  },
  {
   "cell_type": "markdown",
   "metadata": {},
   "source": [
    "- Trying every possible match and we can dry different filters\n",
    "- This act of creating a stack of filtered images is called a convolution layer\n",
    "- In covolution, we get a stack of filtered images"
   ]
  },
  {
   "cell_type": "markdown",
   "metadata": {},
   "source": [
    "#### 3. Pooling : Shrinking the image stack"
   ]
  },
  {
   "cell_type": "markdown",
   "metadata": {},
   "source": [
    "- Pick a window size(usually 2 or 3)\n",
    "- Pick a stride (usually 2)\n",
    "- Walk your window across your filtered images\n",
    "- From each window, take the maximum value (maxpooling)\n",
    "- see that pooling is indepenedent of the position of the maximum value\n",
    "- we do maxpooling for each of our stacked images and get smaller size of filtered images"
   ]
  },
  {
   "cell_type": "markdown",
   "metadata": {},
   "source": [
    "#### 4. Normalization"
   ]
  },
  {
   "cell_type": "markdown",
   "metadata": {},
   "source": [
    "- Keep the math from breaking by tweaking each of the values just a bit without blowing up\n",
    "- change every negative to zero using ReLUs\n",
    "- now we have smaller size of stack of images with no negative values"
   ]
  },
  {
   "cell_type": "markdown",
   "metadata": {},
   "source": [
    "#### 5. Can do Deep Stacking"
   ]
  },
  {
   "cell_type": "markdown",
   "metadata": {},
   "source": [
    "Input Image => Convolution Layer -> ReLU -> Pooling (multiple)"
   ]
  },
  {
   "cell_type": "markdown",
   "metadata": {},
   "source": [
    "#### 6. Fully connected Layer"
   ]
  },
  {
   "cell_type": "markdown",
   "metadata": {},
   "source": [
    "- Every value gets a vote\n",
    "- we take all the cells of shrinked stack of images and we put them into a single list\n",
    "- each of them connects to one of our answers\n",
    "- when we feed in a picture of X, there wil be certain values that tend to be high\n",
    "- when we feed in a picture of O, there are certain values that ten to predict O\n",
    "- Based on weights that each value gets to vote with, we get a nice average vote at the end\n",
    "- So, in fully connected layer, a list of feature values becomes a list of votes\n",
    "- we can stack as many fully connected layers (hidden) \n"
   ]
  },
  {
   "cell_type": "markdown",
   "metadata": {},
   "source": [
    "#### 7. Learning"
   ]
  },
  {
   "cell_type": "markdown",
   "metadata": {},
   "source": [
    "Where do all the magic numbers come from?\n",
    "    \n",
    "    a) Features in convolutional layers\n",
    "    \n",
    "    b) Voting weights in fully connected layers\n",
    "    \n",
    "A: Back Propogation  ( an error in the final answer is used to determine how much the network adjusts and changes)\n",
    "\n",
    "Gradient Descent: For each feature pixel and voting weight they adjust it up and down and see how error changes. The amount they adjusted is is guessed by how big the error is like sliding a ball to right and left."
   ]
  },
  {
   "cell_type": "markdown",
   "metadata": {},
   "source": [
    "#### 8. Hyper-Parameters (in our hands)"
   ]
  },
  {
   "cell_type": "markdown",
   "metadata": {},
   "source": [
    "- Convolution:\n",
    "    - Number of Features\n",
    "    - Size of features\n",
    "\n",
    "- Pooling:\n",
    "    - Window Size\n",
    "    - Window stride\n",
    "\n",
    "- Fully Connected\n",
    "     - Nunber of neurons"
   ]
  },
  {
   "cell_type": "markdown",
   "metadata": {},
   "source": [
    "#### 9. Architecture"
   ]
  },
  {
   "cell_type": "markdown",
   "metadata": {},
   "source": [
    "a) How many of each type of layer?\n",
    "\n",
    "b) In what order?\n",
    "\n",
    "c) can we design a new type of layer?"
   ]
  },
  {
   "cell_type": "markdown",
   "metadata": {},
   "source": [
    "#### 9. Extras"
   ]
  },
  {
   "cell_type": "markdown",
   "metadata": {},
   "source": [
    "Not just 2D or 3D images but we can also apply to structured data\n",
    " \n",
    "    - Images\n",
    "    - Sound (timesteps close to each other are closely related)\n",
    "    - Text - Position in sentence is column, and row is word in dictionary (take a filter from top to bottom and slide left to right)"
   ]
  },
  {
   "cell_type": "markdown",
   "metadata": {},
   "source": [
    "#### 10. Limitations"
   ]
  },
  {
   "cell_type": "markdown",
   "metadata": {},
   "source": [
    "- Convnets only capture local \"spatial\" patterns in data. If data cant be look like an image, then these are less useful. Example: a sturcutured customer data \n",
    "- Rule of thumb: If your data is just as useful after swapping any of your columns with each other then , you cant use Convolutional Neural Networks"
   ]
  },
  {
   "cell_type": "markdown",
   "metadata": {},
   "source": [
    "ConvNets are graat at finding patterns and using classify images"
   ]
  }
 ],
 "metadata": {
  "kernelspec": {
   "display_name": "Python 3",
   "language": "python",
   "name": "python3"
  },
  "language_info": {
   "codemirror_mode": {
    "name": "ipython",
    "version": 3
   },
   "file_extension": ".py",
   "mimetype": "text/x-python",
   "name": "python",
   "nbconvert_exporter": "python",
   "pygments_lexer": "ipython3",
   "version": "3.6.3"
  }
 },
 "nbformat": 4,
 "nbformat_minor": 2
}
